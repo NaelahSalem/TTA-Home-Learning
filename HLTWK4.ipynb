{
 "cells": [
  {
   "cell_type": "code",
   "execution_count": 4,
   "metadata": {},
   "outputs": [
    {
     "ename": "ModuleNotFoundError",
     "evalue": "No module named 'pandas'",
     "output_type": "error",
     "traceback": [
      "\u001b[1;31m---------------------------------------------------------------------------\u001b[0m",
      "\u001b[1;31mModuleNotFoundError\u001b[0m                       Traceback (most recent call last)",
      "\u001b[1;32m~\\AppData\\Local\\Temp/ipykernel_25492/4080736814.py\u001b[0m in \u001b[0;36m<module>\u001b[1;34m\u001b[0m\n\u001b[1;32m----> 1\u001b[1;33m \u001b[1;32mimport\u001b[0m \u001b[0mpandas\u001b[0m \u001b[1;32mas\u001b[0m \u001b[0mpd\u001b[0m\u001b[1;33m\u001b[0m\u001b[1;33m\u001b[0m\u001b[0m\n\u001b[0m",
      "\u001b[1;31mModuleNotFoundError\u001b[0m: No module named 'pandas'"
     ]
    }
   ],
   "source": [
    "import pandas as pd"
   ]
  },
  {
   "cell_type": "code",
   "execution_count": 6,
   "metadata": {},
   "outputs": [
    {
     "name": "stderr",
     "output_type": "stream",
     "text": [
      "'pip3' is not recognized as an internal or external command,\n",
      "operable program or batch file.\n"
     ]
    }
   ],
   "source": [
    "!pip3 install pandas "
   ]
  },
  {
   "cell_type": "code",
   "execution_count": 9,
   "metadata": {},
   "outputs": [
    {
     "name": "stdout",
     "output_type": "stream",
     "text": [
      "     Code  Produce   Origin  Price\n",
      "0   43456   Orange   Mexico   1.60\n",
      "1  699766    Apple       Uk   0.72\n",
      "2  657567  Avacado  America   3.50\n",
      "3  678689     Pear    Spain   0.98\n"
     ]
    }
   ],
   "source": [
    "Inventory = {\"Code\": [ \"43456\", \"699766\", \"657567\", \"678689\"],\n",
    "\"Produce\": [\"Orange\", \"Apple\", \"Avacado\", \"Pear\"],\n",
    "\"Origin\": [\"Mexico\", \"Uk\", \"America\", \"Spain\"],\n",
    "\"Price\": [1.60, 0.72, 3.5, 0.98]}\n",
    "\n",
    "myframe = pd.DataFrame(Inventory)\n",
    "print (myframe)"
   ]
  },
  {
   "cell_type": "code",
   "execution_count": 26,
   "metadata": {},
   "outputs": [
    {
     "name": "stdout",
     "output_type": "stream",
     "text": [
      "   Destinations  Feedback score  Hotel Rating  No. All inclusive Hotel  \\\n",
      "0        Turkey               6             3                        2   \n",
      "1            UK               9             5                        1   \n",
      "2       America               0             5                        6   \n",
      "3           UAE               9             3                       10   \n",
      "4        Greece               8             7                        9   \n",
      "5         Yemen               7             2                        7   \n",
      "6         China               6             8                        2   \n",
      "7        Canada               1             3                        4   \n",
      "8      Pakistan               9             4                        7   \n",
      "9         Japan               2             7                        9   \n",
      "10       Mexico               6             8                        0   \n",
      "11       Russia               2             6                       15   \n",
      "12       France               4             7                        9   \n",
      "13        Italy               6             8                        9   \n",
      "14        Spain               6             8                       12   \n",
      "\n",
      "   Most visited city  \n",
      "0           Istanbul  \n",
      "1             London  \n",
      "2           New York  \n",
      "3              Dubai  \n",
      "4             Athens  \n",
      "5               Aden  \n",
      "6            Beijing  \n",
      "7          Vancouver  \n",
      "8             Lahore  \n",
      "9              Tokyo  \n",
      "10        New Mexico  \n",
      "11            Moscow  \n",
      "12             Paris  \n",
      "13              Rome  \n",
      "14         Barcelona  \n"
     ]
    }
   ],
   "source": [
    "holidaydata = pd.read_csv(\"Holiday_Destinations.csv\")\n",
    "print (holidaydata)"
   ]
  },
  {
   "cell_type": "markdown",
   "metadata": {},
   "source": [
    "## How many rows and columns are there in your file?"
   ]
  },
  {
   "cell_type": "code",
   "execution_count": 27,
   "metadata": {},
   "outputs": [
    {
     "data": {
      "text/plain": [
       "(15, 5)"
      ]
     },
     "execution_count": 27,
     "metadata": {},
     "output_type": "execute_result"
    }
   ],
   "source": [
    "#holidaydata = pd.read_csv(\"Holiday_Destinations.csv\")\n",
    "\n",
    "holidaydata.shape"
   ]
  },
  {
   "cell_type": "markdown",
   "metadata": {},
   "source": [
    "## Print row 3-8 ( using iloc/loc)."
   ]
  },
  {
   "cell_type": "code",
   "execution_count": 28,
   "metadata": {},
   "outputs": [
    {
     "name": "stdout",
     "output_type": "stream",
     "text": [
      "  Destinations  Feedback score  Hotel Rating  No. All inclusive Hotel  \\\n",
      "3          UAE               9             3                       10   \n",
      "4       Greece               8             7                        9   \n",
      "5        Yemen               7             2                        7   \n",
      "6        China               6             8                        2   \n",
      "7       Canada               1             3                        4   \n",
      "8     Pakistan               9             4                        7   \n",
      "\n",
      "  Most visited city  \n",
      "3             Dubai  \n",
      "4            Athens  \n",
      "5              Aden  \n",
      "6           Beijing  \n",
      "7         Vancouver  \n",
      "8            Lahore  \n"
     ]
    }
   ],
   "source": [
    "print(holidaydata[3:9])"
   ]
  },
  {
   "cell_type": "markdown",
   "metadata": {},
   "source": [
    "## Find the mean number of all-inclusive hotels across all destinations."
   ]
  },
  {
   "cell_type": "code",
   "execution_count": 29,
   "metadata": {},
   "outputs": [
    {
     "data": {
      "text/plain": [
       "6.8"
      ]
     },
     "execution_count": 29,
     "metadata": {},
     "output_type": "execute_result"
    }
   ],
   "source": [
    "holidaydata [\"No. All inclusive Hotel\"]. mean()"
   ]
  },
  {
   "cell_type": "markdown",
   "metadata": {},
   "source": [
    "## Find the lowest scoring destinatio"
   ]
  },
  {
   "cell_type": "code",
   "execution_count": 30,
   "metadata": {},
   "outputs": [
    {
     "data": {
      "text/plain": [
       "0"
      ]
     },
     "execution_count": 30,
     "metadata": {},
     "output_type": "execute_result"
    }
   ],
   "source": [
    "myfilter = holidaydata [\"Feedback score\"]\n",
    "myfilter.min()"
   ]
  },
  {
   "cell_type": "markdown",
   "metadata": {},
   "source": [
    "## Find the highest scoring destination."
   ]
  },
  {
   "cell_type": "code",
   "execution_count": 31,
   "metadata": {},
   "outputs": [
    {
     "data": {
      "text/plain": [
       "9"
      ]
     },
     "execution_count": 31,
     "metadata": {},
     "output_type": "execute_result"
    }
   ],
   "source": [
    "myfilter = holidaydata [\"Feedback score\"]\n",
    "myfilter.max()"
   ]
  },
  {
   "cell_type": "markdown",
   "metadata": {},
   "source": [
    "## Find all the destinations where there are more than 9 all-inclusive hotels. "
   ]
  },
  {
   "cell_type": "code",
   "execution_count": 35,
   "metadata": {},
   "outputs": [
    {
     "data": {
      "text/plain": [
       "0     False\n",
       "1     False\n",
       "2     False\n",
       "3      True\n",
       "4     False\n",
       "5     False\n",
       "6     False\n",
       "7     False\n",
       "8     False\n",
       "9     False\n",
       "10    False\n",
       "11     True\n",
       "12    False\n",
       "13    False\n",
       "14     True\n",
       "Name: No. All inclusive Hotel, dtype: bool"
      ]
     },
     "execution_count": 35,
     "metadata": {},
     "output_type": "execute_result"
    }
   ],
   "source": [
    "myfilter2 = holidaydata [\"No. All inclusive Hotel\"] > 9\n",
    "myfilter2"
   ]
  },
  {
   "cell_type": "markdown",
   "metadata": {},
   "source": [
    "## Filter the data score below 2 ( I need to know if these destinations should be removed or there is a problem) "
   ]
  },
  {
   "cell_type": "code",
   "execution_count": 5,
   "metadata": {},
   "outputs": [
    {
     "ename": "NameError",
     "evalue": "name 'holidaydata' is not defined",
     "output_type": "error",
     "traceback": [
      "\u001b[1;31m---------------------------------------------------------------------------\u001b[0m",
      "\u001b[1;31mNameError\u001b[0m                                 Traceback (most recent call last)",
      "\u001b[1;32m~\\AppData\\Local\\Temp/ipykernel_25492/2441731233.py\u001b[0m in \u001b[0;36m<module>\u001b[1;34m\u001b[0m\n\u001b[1;32m----> 1\u001b[1;33m \u001b[0mmyfilter3\u001b[0m \u001b[1;33m=\u001b[0m \u001b[0mholidaydata\u001b[0m \u001b[1;33m[\u001b[0m\u001b[1;34m\"Feedback score\"\u001b[0m\u001b[1;33m]\u001b[0m \u001b[1;33m<\u001b[0m \u001b[1;36m2\u001b[0m\u001b[1;33m\u001b[0m\u001b[1;33m\u001b[0m\u001b[0m\n\u001b[0m\u001b[0;32m      2\u001b[0m \u001b[0mmyfilter3\u001b[0m\u001b[1;33m\u001b[0m\u001b[1;33m\u001b[0m\u001b[0m\n",
      "\u001b[1;31mNameError\u001b[0m: name 'holidaydata' is not defined"
     ]
    }
   ],
   "source": [
    "myfilter3 = holidaydata [\"Feedback score\"] < 2\n",
    "myfilter3"
   ]
  }
 ],
 "metadata": {
  "interpreter": {
   "hash": "db43c668d8d6da4d5e2b74d1ecf6b8ac609822ee685bea7a5e909bd2179f4879"
  },
  "kernelspec": {
   "display_name": "Python 3.9.7 64-bit",
   "name": "python3"
  },
  "language_info": {
   "codemirror_mode": {
    "name": "ipython",
    "version": 3
   },
   "file_extension": ".py",
   "mimetype": "text/x-python",
   "name": "python",
   "nbconvert_exporter": "python",
   "pygments_lexer": "ipython3",
   "version": "3.7.1"
  },
  "orig_nbformat": 4
 },
 "nbformat": 4,
 "nbformat_minor": 2
}
