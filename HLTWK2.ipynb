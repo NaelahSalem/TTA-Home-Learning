{
 "cells": [
  {
   "cell_type": "markdown",
   "source": [
    "## FUNCTION AND LOOPING\r\n",
    "As an extension to the motorbike task that costs\r\n",
    "£2000 and loses 10% of its value every year. Set up\r\n",
    "a function that performs the calculation by passing\r\n",
    "in parameters. Then using a loop, print the value of\r\n",
    "the bike every following year until it falls below\r\n",
    "£1000"
   ],
   "metadata": {}
  },
  {
   "cell_type": "code",
   "execution_count": 1,
   "source": [
    "def procedure_1():\r\n",
    "\r\n",
    "    bike = 2000\r\n",
    "    while bike > 1000:\r\n",
    "        print (bike)\r\n",
    "        bike = bike*0.9\r\n",
    "    print (\"The value of the depreciated bike is £\", bike)\r\n",
    "\r\n",
    "\r\n"
   ],
   "outputs": [],
   "metadata": {}
  },
  {
   "cell_type": "code",
   "execution_count": 2,
   "source": [
    "procedure_1() "
   ],
   "outputs": [
    {
     "output_type": "stream",
     "name": "stdout",
     "text": [
      "2000\n",
      "1800.0\n",
      "1620.0\n",
      "1458.0\n",
      "1312.2\n",
      "1180.98\n",
      "1062.882\n",
      "The value of the depreciated bike is £ 956.5938000000001\n"
     ]
    }
   ],
   "metadata": {}
  },
  {
   "cell_type": "code",
   "execution_count": 11,
   "source": [
    "def calc_depreciated_price (initial_value, rate, threshold):\r\n",
    "    current_value = initial_value\r\n",
    "    \r\n",
    "    initial_value =  int (input (\"What is the value of the bike?\"))\r\n",
    "    rate = float (input(\"What is the annual percentage depreciating rate?\"))\r\n",
    "    threshold = int (input(\"What is the value threshold?\"))\r\n",
    "       \r\n",
    "    while initial_value > threshold:\r\n",
    "\r\n",
    "       current_value = initial_value * rate\r\n",
    "    print (current_value)\r\n",
    "\r\n",
    "    return current_value\r\n",
    "\r\n",
    "    "
   ],
   "outputs": [],
   "metadata": {}
  },
  {
   "cell_type": "code",
   "execution_count": 12,
   "source": [
    "calc_depreciated_price ()"
   ],
   "outputs": [
    {
     "output_type": "error",
     "ename": "TypeError",
     "evalue": "calc_depreciated_price() missing 3 required positional arguments: 'initial_value', 'rate', and 'threshold'",
     "traceback": [
      "\u001b[1;31m---------------------------------------------------------------------------\u001b[0m",
      "\u001b[1;31mTypeError\u001b[0m                                 Traceback (most recent call last)",
      "\u001b[1;32m~\\AppData\\Local\\Temp/ipykernel_148/69382147.py\u001b[0m in \u001b[0;36m<module>\u001b[1;34m\u001b[0m\n\u001b[1;32m----> 1\u001b[1;33m \u001b[0mcalc_depreciated_price\u001b[0m \u001b[1;33m(\u001b[0m\u001b[1;33m)\u001b[0m\u001b[1;33m\u001b[0m\u001b[1;33m\u001b[0m\u001b[0m\n\u001b[0m",
      "\u001b[1;31mTypeError\u001b[0m: calc_depreciated_price() missing 3 required positional arguments: 'initial_value', 'rate', and 'threshold'"
     ]
    }
   ],
   "metadata": {}
  },
  {
   "cell_type": "code",
   "execution_count": null,
   "source": [
    "depreciated_bike_value = calc_depreciated_price ()\r\n",
    "print (\"The value of the depreciated bike is £\", depreciated_bike_value)"
   ],
   "outputs": [],
   "metadata": {}
  },
  {
   "cell_type": "markdown",
   "source": [
    "## OPTION MENU\r\n",
    "Write a program which will ask for two numbers\r\n",
    "from a user. Then offer an option menu to the user\r\n",
    "giving them a choice of maths operators. Once the\r\n",
    "user has selected which operator they wish to use,\r\n",
    "perform the calculation by using a procedure and\r\n",
    "passing parameters. "
   ],
   "metadata": {}
  },
  {
   "cell_type": "code",
   "execution_count": 9,
   "source": [
    "def procedure_calculation():\r\n",
    "    number_1 = int (input(\"Type in a number \"))\r\n",
    "    number_2 = int(input(\"Type in another number \"))\r\n",
    "    menuOption= int(input(\"Select an option 1 to add,2 to subtract or 3 to multiply\"))\r\n",
    "\r\n",
    "    if (menuOption==1):\r\n",
    "        print (number_1+number_2)\r\n",
    "    elif(menuOption==2):\r\n",
    "        print (number_1-number_2)\r\n",
    "    elif(menuOption==3):\r\n",
    "        print (number_1*number_2)\r\n",
    "\r\n",
    "    else:\r\n",
    "        print (\"You didn’t choose the correct option\")  "
   ],
   "outputs": [],
   "metadata": {}
  },
  {
   "cell_type": "code",
   "execution_count": 10,
   "source": [
    "procedure_calculation()"
   ],
   "outputs": [
    {
     "output_type": "stream",
     "name": "stdout",
     "text": [
      "-1\n"
     ]
    }
   ],
   "metadata": {}
  }
 ],
 "metadata": {
  "orig_nbformat": 4,
  "language_info": {
   "name": "python",
   "version": "3.9.7",
   "mimetype": "text/x-python",
   "codemirror_mode": {
    "name": "ipython",
    "version": 3
   },
   "pygments_lexer": "ipython3",
   "nbconvert_exporter": "python",
   "file_extension": ".py"
  },
  "kernelspec": {
   "name": "python3",
   "display_name": "Python 3.9.7 64-bit"
  },
  "interpreter": {
   "hash": "db43c668d8d6da4d5e2b74d1ecf6b8ac609822ee685bea7a5e909bd2179f4879"
  }
 },
 "nbformat": 4,
 "nbformat_minor": 2
}