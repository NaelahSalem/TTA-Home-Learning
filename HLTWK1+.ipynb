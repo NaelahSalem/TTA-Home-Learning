{
 "cells": [
  {
   "cell_type": "markdown",
   "source": [
    "## TASK 1 - GUESS A NUMBER (RANDOM NUMBER AND PRINT)\r\n",
    "Write a program that does the following:\r\n",
    "a) Stores a random number (1-10) in a variable – see hint below.\r\n",
    "b) Asks a user for their name and stores this in a variable.\r\n",
    "c) Asks a user to guess the number between 1 and 10.\r\n",
    "d) Tells the user whether they have guessed correctly."
   ],
   "metadata": {}
  },
  {
   "cell_type": "code",
   "execution_count": 259,
   "source": [
    "import random\r\n",
    "numberguess = random.randint(1,10)\r\n",
    "print (numberguess)"
   ],
   "outputs": [
    {
     "output_type": "stream",
     "name": "stdout",
     "text": [
      "3\n"
     ]
    }
   ],
   "metadata": {}
  },
  {
   "cell_type": "code",
   "execution_count": 68,
   "source": [
    "user_input_name = input(\"What is your name? \")\r\n",
    "print (user_input_name)\r\n"
   ],
   "outputs": [
    {
     "output_type": "stream",
     "name": "stdout",
     "text": [
      "TEL\n"
     ]
    }
   ],
   "metadata": {}
  },
  {
   "cell_type": "code",
   "execution_count": 260,
   "source": [
    "user_input_numberguess = input (\"Guess a number between 1 and 10\")\r\n",
    "print (user_input_numberguess)"
   ],
   "outputs": [
    {
     "output_type": "stream",
     "name": "stdout",
     "text": [
      "3\n"
     ]
    }
   ],
   "metadata": {}
  },
  {
   "cell_type": "code",
   "execution_count": 272,
   "source": [
    "if user_input_numberguess == str (numberguess):\r\n",
    "    print(\"You guessed correctly!\")\r\n",
    "    \r\n",
    "\r\n",
    "else: \r\n",
    "    print(\"Sorry, you guessed incorrectly. Better luck next time\", user_input_name,\"!\")    "
   ],
   "outputs": [
    {
     "output_type": "stream",
     "name": "stdout",
     "text": [
      "You guessed correctly!\n"
     ]
    }
   ],
   "metadata": {}
  },
  {
   "cell_type": "markdown",
   "source": [
    "## TASK 2 - GUESS A NUMBER + JOKE GAME (IF & ELIF)\r\n",
    "Write a program that asks a user for their favourite number between 1 \r\n",
    "and 100 and then tells them a joke based on the number. You should \r\n",
    "use a minimum of 3 jokes"
   ],
   "metadata": {}
  },
  {
   "cell_type": "code",
   "execution_count": 266,
   "source": [
    "user_input_favnumber = input (\"What is your favourite number?\")\r\n",
    "print (user_input_favnumber)"
   ],
   "outputs": [
    {
     "output_type": "stream",
     "name": "stdout",
     "text": [
      "50\n"
     ]
    }
   ],
   "metadata": {}
  },
  {
   "cell_type": "code",
   "execution_count": 267,
   "source": [
    "if user_input_favnumber == \"50\":\r\n",
    "    print(\"Why did a scare crow win an award? ... \\nbecause he was outstanding in his field!\")\r\n",
    "elif user_input_favnumber == \"10\":\r\n",
    "    print (\"Why do bees have sticky hair?... \\nbecause they use honey chomes\")\r\n",
    "elif user_input_favnumber == \"100\":\r\n",
    "    print (\"Today at the bank, an old lady asked me to check her balance...\\n so I pushed her over\")"
   ],
   "outputs": [
    {
     "output_type": "stream",
     "name": "stdout",
     "text": [
      "Why did a scare crow win an award? ... \n",
      "because he was outstanding in his field!\n"
     ]
    }
   ],
   "metadata": {}
  },
  {
   "cell_type": "markdown",
   "source": [
    "## TASK 3 - MENU ORDER - INPUT & CASTING\r\n",
    "Write a program that allows user to enter their favourite starter, main \r\n",
    "course, dessert and drink.\r\n",
    "Concatenate these and output a message which says – “Your favourite \r\n",
    "meal is ………with a glass of….”"
   ],
   "metadata": {}
  },
  {
   "cell_type": "code",
   "execution_count": 76,
   "source": [
    "user_input_starter = input (\"What is your favourite starter?\")\r\n",
    "print(user_input_starter)"
   ],
   "outputs": [
    {
     "output_type": "stream",
     "name": "stdout",
     "text": [
      "Cracker\n"
     ]
    }
   ],
   "metadata": {}
  },
  {
   "cell_type": "code",
   "execution_count": 77,
   "source": [
    "user_input_maincourse = input (\"What is your favourite main course?\")\r\n",
    "print(user_input_maincourse)"
   ],
   "outputs": [
    {
     "output_type": "stream",
     "name": "stdout",
     "text": [
      "j\n"
     ]
    }
   ],
   "metadata": {}
  },
  {
   "cell_type": "code",
   "execution_count": 78,
   "source": [
    "user_input_dessert = input (\"What is your favourite dessert?\")\r\n",
    "print(user_input_dessert)"
   ],
   "outputs": [
    {
     "output_type": "stream",
     "name": "stdout",
     "text": [
      "cheesecake\n"
     ]
    }
   ],
   "metadata": {}
  },
  {
   "cell_type": "code",
   "execution_count": 80,
   "source": [
    "user_input_drink = input (\"What is your favourite drink?\")\r\n",
    "print(user_input_drink)"
   ],
   "outputs": [
    {
     "output_type": "stream",
     "name": "stdout",
     "text": [
      "coke\n"
     ]
    }
   ],
   "metadata": {}
  },
  {
   "cell_type": "code",
   "execution_count": 85,
   "source": [
    "print(\"Looks like your favrouite meal is a portion of\", user_input_starter, \"and a mains of\", user_input_maincourse, \"along side a tasty portion of\", user_input_dessert, \"and a glass of\", user_input_drink, \"!\")\r\n"
   ],
   "outputs": [
    {
     "output_type": "stream",
     "name": "stdout",
     "text": [
      "Looks like your favrouite meal is a portion of Cracker and a mains of j along side a tasty portion of cheesecake and a glass of coke !\n"
     ]
    }
   ],
   "metadata": {}
  },
  {
   "cell_type": "markdown",
   "source": [
    "## Task 4 BIKE DEPRECIATION - MATH OPERATIONS & LOOPING: \r\n",
    "A motorbike costs £2000 and loses 10% of its value every year. Using a \r\n",
    "loop, print the value of the bike every following year until it falls below \r\n",
    "£1000"
   ],
   "metadata": {}
  },
  {
   "cell_type": "code",
   "execution_count": 223,
   "source": [
    "bike = 2000\r\n",
    "print(bike)"
   ],
   "outputs": [
    {
     "output_type": "stream",
     "name": "stdout",
     "text": [
      "2000\n"
     ]
    }
   ],
   "metadata": {}
  },
  {
   "cell_type": "code",
   "execution_count": 224,
   "source": [
    "while bike > 1000:\r\n",
    "    print (bike)\r\n",
    "    bike = bike*0.9"
   ],
   "outputs": [
    {
     "output_type": "stream",
     "name": "stdout",
     "text": [
      "2000\n",
      "1800.0\n",
      "1620.0\n",
      "1458.0\n",
      "1312.2\n",
      "1180.98\n",
      "1062.882\n"
     ]
    }
   ],
   "metadata": {}
  },
  {
   "cell_type": "code",
   "execution_count": 273,
   "source": [
    "while bike > 1000:\r\n",
    "    print (bike)\r\n",
    "    bike = bike*0.9\r\n",
    "    # not sure why this isnt working, as when I ran it the first time it worked, but then I was unable to run it again"
   ],
   "outputs": [],
   "metadata": {}
  },
  {
   "cell_type": "code",
   "execution_count": 189,
   "source": [
    "print (\"The value of the depreciated bike is £\", x)"
   ],
   "outputs": [
    {
     "output_type": "stream",
     "name": "stdout",
     "text": [
      "The value of the depreciated bike is £ 956.5938000000001\n"
     ]
    }
   ],
   "metadata": {}
  },
  {
   "cell_type": "markdown",
   "source": [
    "## TASK 5: CHOICE CALCULATOR\r\n",
    "Write a program which will ask for two numbers from a user. Then \r\n",
    "offer a menu to the user giving them a choice of operator:\r\n",
    "e.g. – Enter “a” if you want to add\r\n",
    "“b” if you want to subtract\r\n",
    "Include +, -, /, *, ** square (to the power of). Once the user has \r\n",
    "selected which operator they wish to use, perform the calculation."
   ],
   "metadata": {}
  },
  {
   "cell_type": "code",
   "execution_count": 246,
   "source": [
    "user_input_number1 = int (input (\"Type in a number\"))\r\n",
    "print (user_input_number1)"
   ],
   "outputs": [
    {
     "output_type": "stream",
     "name": "stdout",
     "text": [
      "2\n"
     ]
    }
   ],
   "metadata": {}
  },
  {
   "cell_type": "code",
   "execution_count": 245,
   "source": [
    "user_input_number2 = int (input (\"Type in another number\"))\r\n",
    "print (user_input_number2)"
   ],
   "outputs": [
    {
     "output_type": "stream",
     "name": "stdout",
     "text": [
      "5\n"
     ]
    }
   ],
   "metadata": {}
  },
  {
   "cell_type": "markdown",
   "source": [
    "\\+ : This is to add <br>\r\n",
    "\\- : This is to subtrack <br>\r\n",
    "\\* : This is to multiply <br>\r\n",
    "/ : This is to divide <br>\r\n",
    "//: This is to divide and show the integer value <br>\r\n",
    "% : This shows the remainder value <br>\r\n",
    "\\**: This will do a multiplication to the power of <br>   "
   ],
   "metadata": {}
  },
  {
   "cell_type": "code",
   "execution_count": 268,
   "source": [
    "user_input_options = int(input(\"Input 1 to add, 2 to subtract, 3 to multiply, 4 to divide, 5 to divide and show interger value, 6 to find the power of\"))\r\n",
    "print(user_input_options)"
   ],
   "outputs": [
    {
     "output_type": "stream",
     "name": "stdout",
     "text": [
      "5\n"
     ]
    }
   ],
   "metadata": {}
  },
  {
   "cell_type": "code",
   "execution_count": 269,
   "source": [
    "if user_input_options == 1:\r\n",
    "    print (user_input_number1+user_input_number2)\r\n",
    "elif user_input_options == 2:\r\n",
    "    print (user_input_number1-user_input_number2)\r\n",
    "elif user_input_options == 3:\r\n",
    "    print (user_input_number1*user_input_number2)\r\n",
    "elif user_input_options == 4:\r\n",
    "    print (user_input_number1/user_input_number2)\r\n",
    "elif user_input_options == 5:\r\n",
    "    print (user_input_number1//user_input_number2)\r\n",
    "elif user_input_options == 6:\r\n",
    "    print (user_input_number1**user_input_number2)\r\n",
    "else: \r\n",
    "    print (\"Your input is invalid\")"
   ],
   "outputs": [
    {
     "output_type": "stream",
     "name": "stdout",
     "text": [
      "0\n"
     ]
    }
   ],
   "metadata": {}
  }
 ],
 "metadata": {
  "orig_nbformat": 4,
  "language_info": {
   "name": "python",
   "version": "3.9.7",
   "mimetype": "text/x-python",
   "codemirror_mode": {
    "name": "ipython",
    "version": 3
   },
   "pygments_lexer": "ipython3",
   "nbconvert_exporter": "python",
   "file_extension": ".py"
  },
  "kernelspec": {
   "name": "python3",
   "display_name": "Python 3.9.7 64-bit"
  },
  "interpreter": {
   "hash": "db43c668d8d6da4d5e2b74d1ecf6b8ac609822ee685bea7a5e909bd2179f4879"
  }
 },
 "nbformat": 4,
 "nbformat_minor": 2
}