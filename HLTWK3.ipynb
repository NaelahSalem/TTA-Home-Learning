{
 "cells": [
  {
   "cell_type": "markdown",
   "metadata": {},
   "source": [
    "## Task 1 \n",
    "Write a program that allows you to enter 4 numbers \n",
    "and stores them in a file called “Numbers”"
   ]
  },
  {
   "cell_type": "code",
   "execution_count": 12,
   "metadata": {},
   "outputs": [],
   "source": [
    "my_file = open(\"Ilovedata.txt\",\"w\")\n",
    "\n",
    "my_file.close()"
   ]
  },
  {
   "cell_type": "code",
   "execution_count": 14,
   "metadata": {},
   "outputs": [],
   "source": [
    "my_file = open(\"Ilovedata.txt\",\"w\")\n",
    "\n",
    "my_file.write (str(\"3, 45, 83, 21\"))\n",
    "\n",
    "my_file.close()"
   ]
  },
  {
   "cell_type": "markdown",
   "metadata": {},
   "source": [
    "## Task 2\n",
    "Write a program to ask a student for their percentage mark and convert this to a grade. The conversion will be done in a function called mark_grade"
   ]
  },
  {
   "cell_type": "code",
   "execution_count": 107,
   "metadata": {},
   "outputs": [],
   "source": [
    "user_mark_grade=  int (input (\"what is your % grade?\"))\n",
    "user_target_grade = int (input (\"what is your % target grade?\"))"
   ]
  },
  {
   "cell_type": "code",
   "execution_count": 108,
   "metadata": {},
   "outputs": [
    {
     "name": "stdout",
     "output_type": "stream",
     "text": [
      "50 80\n"
     ]
    }
   ],
   "source": [
    "print (user_mark_grade, user_target_grade)"
   ]
  },
  {
   "cell_type": "code",
   "execution_count": 118,
   "metadata": {},
   "outputs": [],
   "source": [
    "value = user_mark_grade"
   ]
  },
  {
   "cell_type": "code",
   "execution_count": 119,
   "metadata": {},
   "outputs": [],
   "source": [
    "def mark_grade (value):\n",
    "    if value <30:\n",
    "        result = \"C\"\n",
    "    elif value <70:\n",
    "        result = \"B\"\n",
    "    else:\n",
    "        result = \"A\"\n",
    "    return result \n",
    "result = mark_grade(user_mark_grade)"
   ]
  },
  {
   "cell_type": "code",
   "execution_count": 120,
   "metadata": {},
   "outputs": [
    {
     "name": "stdout",
     "output_type": "stream",
     "text": [
      "You need to study harder\n"
     ]
    }
   ],
   "source": [
    "if value < user_target_grade:\n",
    "    print (\"You need to study harder\")\n",
    "elif value > user_target_grade:\n",
    "    print (\"You did very well. Keep up the good work\")\n",
    "else:\n",
    "    print (\"Your just scraping it - work a little harder\")"
   ]
  },
  {
   "cell_type": "code",
   "execution_count": null,
   "metadata": {},
   "outputs": [],
   "source": [
    "my_file = open(\"Ilovedata.txt\", \"w\")\n",
    "\n",
    "if mark_grade in range([1:30]):\n",
    "    my_file.write(str(\"You need to work harder\"))\n",
    "    my_file.write(\"\\n\")"
   ]
  },
  {
   "cell_type": "code",
   "execution_count": null,
   "metadata": {},
   "outputs": [],
   "source": [
    "for user_input_grade in range (len[1:33]):\n",
    "    print (\"You need to work a lot harder\")\n",
    "    \n",
    "for i in range(len(my_1d_list)):\n",
    "    print(\"The data at index location\", i, \"is:\", my_1d_list[i])"
   ]
  },
  {
   "cell_type": "markdown",
   "metadata": {},
   "source": [
    "## NUMPY \n",
    "1. Create a 1D array of numbers from 0 to 9\n",
    "2. Create a 3×3 NumPy array of all Boolean value Trues\n",
    "3. Extract all odd numbers from array of 1-10\n",
    "4. Replace all odd numbers in an array of 1-10 with the value -1\n",
    "5. Convert a 1D array to a 2D array with 2 rows\n",
    "6. Create two arrays a and b, stack these two arrays vertically use the np.dot and \n",
    "np.sum to calculatetotals"
   ]
  },
  {
   "cell_type": "code",
   "execution_count": null,
   "metadata": {},
   "outputs": [],
   "source": [
    "import numpy as np \n"
   ]
  },
  {
   "cell_type": "code",
   "execution_count": null,
   "metadata": {},
   "outputs": [],
   "source": []
  }
 ],
 "metadata": {
  "interpreter": {
   "hash": "db43c668d8d6da4d5e2b74d1ecf6b8ac609822ee685bea7a5e909bd2179f4879"
  },
  "kernelspec": {
   "display_name": "Python 3.9.7 64-bit",
   "name": "python3"
  },
  "language_info": {
   "codemirror_mode": {
    "name": "ipython",
    "version": 3
   },
   "file_extension": ".py",
   "mimetype": "text/x-python",
   "name": "python",
   "nbconvert_exporter": "python",
   "pygments_lexer": "ipython3",
   "version": "3.9.7"
  },
  "orig_nbformat": 4
 },
 "nbformat": 4,
 "nbformat_minor": 2
}
